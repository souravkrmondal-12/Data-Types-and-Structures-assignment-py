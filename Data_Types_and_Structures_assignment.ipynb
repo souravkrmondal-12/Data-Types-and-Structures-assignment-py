{
  "nbformat": 4,
  "nbformat_minor": 0,
  "metadata": {
    "colab": {
      "provenance": []
    },
    "kernelspec": {
      "name": "python3",
      "display_name": "Python 3"
    },
    "language_info": {
      "name": "python"
    }
  },
  "cells": [
    {
      "cell_type": "markdown",
      "source": [
        "#Q1. What are data structures, and why are they important?\n",
        "\n",
        "--Data structures are specialized formats for organizing, storing, and managing data in a computer system. They define how data is arranged in memory and determine the operations that can be performed on that data, such as searching, sorting, inserting, or deleting. By combining primitive data types like integers and characters into structured formats, data structures enable efficient data processing and retrieval.\n",
        "\n",
        "# Why Are Data Structures Important:-\n",
        "1. Efficiency in Data Processing: Choosing the appropriate data structure can significantly enhance the performance of a program. Efficient data structures reduce the time and resources required for data access and manipulation, leading to faster and more responsive applications .​\n",
        "\n",
        "2. Foundation for Algorithm Design: Data structures are integral to the development of algorithms. The choice of data structure influences the design and efficiency of algorithms, making it essential to select structures that align with the specific requirements of the problem at hand .​\n",
        "Launch School\n",
        "\n",
        "3. Effective Memory Management: Proper use of data structures ensures optimal memory utilization. For instance, linked lists allow dynamic memory allocation, which can be more efficient than arrays when dealing with unpredictable data sizes .​\n",
        "\n",
        "4. Scalability: As applications grow and handle larger datasets, the efficiency of data structures becomes increasingly critical. Scalable data structures ensure that applications can maintain performance levels even as data volumes increase .​\n",
        "\n",
        "5. Problem-Solving Capabilities: Understanding various data structures equips developers with the tools to tackle a wide range of computational problems effectively. Different problems may require different data structures for optimal solutions .​\n",
        "\n",
        "6. Reusability and Maintainability: Well-designed data structures promote code reusability and maintainability. They provide clear interfaces and encapsulate data management logic, making it easier to debug and extend applications .​\n",
        "\n",
        "\n",
        "\n"
      ],
      "metadata": {
        "id": "q_Ctzarky9bK"
      }
    },
    {
      "cell_type": "markdown",
      "source": [
        "#Q2. Explain the difference between mutable and immutable data types with examples.\n",
        "\n",
        "---In programming, mutability refers to an object's ability to be changed after it's created. Understanding the distinction between mutable and immutable data types is crucial for writing efficient and predictable code.\n",
        "\n",
        "Mutable Data Types - Objects whose state or content can be changed after creation.\n",
        "Examples: list\n",
        "          dict (dictionary)\n",
        "          set\n",
        "\n",
        "Immutable Data Types - Objects whose state or content cannot be changed after creation. Any modification results in the creation of a new object.\n",
        "Examples: int\n",
        "          float\n",
        "          str (string)\n",
        "          tuple\n",
        "          frozenset​"
      ],
      "metadata": {
        "id": "eBNqQK4Z0ClP"
      }
    },
    {
      "cell_type": "markdown",
      "source": [
        "#Q3. What ore the main differences between lists and tuples in Python?\n",
        "\n",
        "----​In Python,both lists and tuples are used to store collections of items. However, they differ in several key aspects, including mutability, syntax, performance, and use cases. Here's a detailed comparison to help you understand their differences:​\n",
        "\n",
        "Main Differences Between Lists and Tuples :\n",
        "\n",
        "#List\n",
        "\n",
        "Mutability:\tMutable (can be changed after creation)\n",
        "\n",
        "Syntax :\tDefined using square brackets: #[1, 2, 3]\n",
        "\n",
        "Methods :\tSupports many methods like append(), remove()\n",
        "\n",
        "Performance :\tSlower due to dynamic nature.\n",
        "\n",
        "Memory Usage :\tConsumes more memory\n",
        "\n",
        "Hashability\tNot hashable; cannot be used as dictionary keys\n",
        "\n",
        "#Tuple\n",
        "\n",
        "Immutable (cannot be changed after creation)\n",
        "\n",
        "Defined using parentheses: (1, 2, 3)\n",
        "\n",
        "Fewer methods; mainly count() and index()\n",
        "\n",
        "Faster due to immutability\n",
        "\n",
        "More memory-efficient\n",
        "\n",
        "Hashable if all elements are hashable\n"
      ],
      "metadata": {
        "id": "qvsUNMRB4aQ4"
      }
    },
    {
      "cell_type": "markdown",
      "source": [
        "#Q4. Describe how dictionaries store data.\n",
        "\n",
        "---- Dictionaries are implemented using a data structure called a hash table, which allows for efficient storage and retrieval of key-value pairs. Here's an overview of how dictionaries store data:​\n",
        "\n",
        "Dictionaries Store Data\n",
        "\n",
        "Hashing the Key: When you add a key-value pair to a dictionary, Python computes a hash value for the key using the built-in hash() function. This hash value is an integer that determines where the key-value pair will be stored in the underlying array.​\n",
        "\n",
        "Determining the Index: The hash value is then mapped to an index in the internal array (also known as a hash table) using a modulo operation. This index indicates the \"bucket\" where the key-value pair should reside.​\n",
        "\n",
        "Handling Collisions: Sometimes, different keys can produce the same hash value or map to the same index. This situation is known as a collision. Python handles collisions using a method called open addressing with linear probing. If a collision occurs, the algorithm searches for the next available slot in the array to store the new key-value pair. ​\n",
        "\n",
        "Storing the Entry: Each entry in the hash table stores the hash value, the key, and the associated value. This structure allows Python to quickly compare the hash and key during retrieval operations.​\n",
        "\n",
        "Resizing the Hash Table: As more items are added and the hash table becomes more populated, Python dynamically resizes the hash table to maintain efficient operations. Typically, the size of the hash table is doubled when a certain load factor threshold is exceeded.\n"
      ],
      "metadata": {
        "id": "xhBEcJ3N64z0"
      }
    },
    {
      "cell_type": "markdown",
      "source": [
        "#Q5. Why might you use a set instead of a list in Python.\n",
        "\n",
        "-----Sets and lists are used to store collections of items, but they serve different purposes and have distinct characteristics. Here are the main reasons you might choose a set over a list:​\n",
        "\n",
        "Eliminating Duplicates Sets: Automatically ensure all elements are unique. When you add duplicate items to a set, they are ignored.\n",
        "\n",
        "Lists: Can contain duplicate elements. You would need to implement additional logic to remove duplicates.\n",
        "\n",
        "2. Faster Membership Testing\n",
        "Sets: Provide average-case time complexity of O(1) for membership tests due to their underlying hash table implementation.\n",
        "\n",
        "Lists: Have O(n) time complexity for membership tests, as they may need to check each element until a match is found.​\n",
        "\n",
        "3. Set Operations Sets: Support mathematical set operations like union, intersection, difference, and symmetric difference, which are useful for comparing and combining datasets."
      ],
      "metadata": {
        "id": "y7xqz2sh7wli"
      }
    },
    {
      "cell_type": "markdown",
      "source": [
        "#Q7. How do tuples ensure data integrity in Python?\n",
        "\n",
        "---Tuples are immutable, ordered collections of elements. This immutability means that once a tuple is created, its contents cannot be altered—no additions, deletions, or modifications are allowed. This characteristic plays a crucial role in ensuring data integrity.​\n",
        "How Tuples Ensure Data Integrity -\n",
        "Immutability Prevents Accidental Changes : Since tuples cannot be modified after creation, they safeguard against unintended alterations. This is particularly beneficial when passing data between functions or modules, as it ensures the original data remains unchanged throughout the program's execution.\n",
        "\n",
        "Safe for Use as Dictionary Keys : Because of their immutability, tuples are hashable and can be used as keys in dictionaries. This is not possible with mutable data types like lists, which can change and thus cannot guarantee consistent hash values.\n",
        "\n",
        "Thread-Safety in Concurrent Environments : In multi-threaded applications, immutable objects like tuples are inherently thread-safe. Their unchangeable nature means that multiple threads can access them simultaneously without the risk of data corruption.\n",
        "\n",
        "Ideal for Fixed Data Collections : Tuples are suitable for storing data that should remain constant, such as configuration settings, fixed sequences (like days of the week), or records retrieved from a database. Their immutability ensures that this data remains consistent and reliable.\n"
      ],
      "metadata": {
        "id": "SlvS94I3857J"
      }
    },
    {
      "cell_type": "markdown",
      "source": [
        "#Q8. What is a hash table, and how does it relate to dictionaries in Python?\n",
        "\n",
        "--- A hash table is a data structure that stores key-value pairs and allows for efficient data retrieval. Python's built-in dict type is implemented using a hash table, providing fast access to values based on their keys.A hash table uses a hash function to compute an index into an array of buckets or slots, from which the desired value can be found. Here's how it works.\n",
        "\n",
        "Insertion: When adding a new key-value pair, Python computes the hash of the key and stores the pair in the appropriate slot.​\n",
        "\n",
        "Lookup: To retrieve a value, Python hashes the key and accesses the corresponding slot directly.​\n",
        "\n",
        "Deletion: Removing a key involves hashing the key to find its slot and then deleting the entry.\n",
        "\n"
      ],
      "metadata": {
        "id": "4dmbd5ZK-AMX"
      }
    },
    {
      "cell_type": "markdown",
      "source": [
        "#Q9. Can lists contain different data types in Python.\n",
        "\n",
        "---- lists can contain elements of different data types. This flexibility is a fundamental feature of Python's dynamic typing system, allowing lists to store a mix of integers, strings, floats, booleans, objects, functions, and even other lists or dictionaries.​\n",
        "\n",
        "eg- An integer (42)\n",
        "\n",
        "A string (\"hello\")\n",
        "\n",
        "A float (3.14)\n",
        "\n",
        "A boolean (True)\n",
        "\n",
        "A nested list ([1, 2])\n",
        "\n",
        "A dictionary ({\"key\": \"value\"})\n",
        "\n",
        "A function object (len)\n",
        "\n",
        "\n"
      ],
      "metadata": {
        "id": "JfyYLkOs-kr_"
      }
    },
    {
      "cell_type": "markdown",
      "source": [
        "#Q10. Explain why strings ore immutable in Python.\n",
        "\n",
        "--- Strings are immutable, meaning that once a string is created, it cannot be altered. Any operation that appears to modify a string actually creates a new string object. This design choice offers several advantages:​\n",
        "\n",
        "Imutability in Python :\n",
        "\n",
        "\n",
        "Data Integrity and Safety : Immutability ensures that strings remain constant throughout their lifetime. This prevents accidental modifications, leading to more predictable and bug-resistant code. For instance, if multiple parts of a program reference the same string, immutability guarantees that changes in one part won't affect others.\n",
        "\n",
        "Hashability for Dictionary Keys :Immutable objects can be hashed reliably, making strings suitable as keys in dictionaries and elements in sets. If strings were mutable, their hash values could change, leading to inconsistencies in data retrieval.\n",
        "\n",
        "Thread Safety : In multi-threaded applications, immutable objects can be shared across threads without synchronization mechanisms, as their state cannot change. This reduces the complexity of concurrent programming.\n",
        "\n",
        "Performance Optimizations : Python can optimize memory usage by reusing immutable string objects. For example, string interning allows the interpreter to store only one copy of identical strings, saving memory and improving performance.\n",
        "\n",
        "Simplified Memory Management :Immutable strings simplify memory allocation and management. Since their size and content don't change, the interpreter can allocate memory more efficiently and avoid issues like buffer overflows."
      ],
      "metadata": {
        "id": "sgLlmVq5_BsV"
      }
    },
    {
      "cell_type": "markdown",
      "source": [
        "#Q11. What advantages do dictionaries offer over lists for certain tasks?\n",
        "\n",
        "----Dictionaries offer several advantages over lists for specific tasks, particularly when you need to associate unique keys with values and require efficient data retrieval. Here's an overview of why dictionaries might be more suitable than lists in certain scenarios:​\n",
        "\n",
        "Advantages of Dictionaries Over Lists :\n",
        "\n",
        "1. Efficient Key-Based Lookups : Dictionaries provide average-case constant time complexity (O(1)) for lookups, insertions, and deletions due to their underlying hash table implementation. In contrast, lists require linear time (O(n)) to search for an element by value. This makes dictionaries ideal for tasks where quick access to data via unique identifiers is necessary.\n",
        "\n",
        "2. Direct Association of Keys to Values :Dictionaries store data in key-value pairs, allowing for intuitive mapping between identifiers and their corresponding values. This is particularly useful when dealing with structured data like user profiles, configuration settings, or JSON-like structures.\n",
        "\n",
        "3. Prevention of Duplicate Keys: Dictionaries enforce uniqueness of keys, automatically overwriting the value if a duplicate key is inserted. This behavior ensures that each key maps to a single value, preventing data redundancy.\n",
        "\n",
        "4. Flexible and Dynamic Data Structure :Dictionaries allow for dynamic addition and removal of key-value pairs, making them adaptable to changing data requirements. This flexibility is beneficial in scenarios like building dynamic configurations or processing data with varying attributes."
      ],
      "metadata": {
        "id": "vNUkb0A9_dwd"
      }
    },
    {
      "cell_type": "markdown",
      "source": [
        "#Q12. Describe a scenario where using a tuple would be preferable over a list.\n",
        "\n",
        "---Using a tuple instead of a list in Python is preferable when you need to ensure that a collection of items remains constant throughout the program's execution. Tuples are immutable, meaning their contents cannot be modified after creation. This characteristic makes them ideal for representing fixed data structures.\n",
        "\n",
        "Use a Tuple :\n",
        "\n",
        "Data Integrity: You want to prevent accidental modification of the data.\n",
        "\n",
        "Performance: You require a lightweight, memory-efficient structure.\n",
        "\n",
        "Hashability: You need to use the collection as a key in a dictionary.\n",
        "\n",
        "Fixed Data: The data represents a fixed collection of items, such as coordinates, RGB values, or database record fields.​\n"
      ],
      "metadata": {
        "id": "ojVUnfaNAc40"
      }
    },
    {
      "cell_type": "markdown",
      "source": [
        "#Q13. How do sets handle duplicate values in Python?\n",
        "\n",
        "----Sets automatically eliminate duplicate values. When you create a set or add elements to it, any duplicates are ignored, ensuring that each element is unique within the set.\n",
        "\n",
        " Sets Handle Duplicates :  \n",
        " Automatic Deduplication: When initializing a set with duplicate elements, Python retains only one instance of each unique item."
      ],
      "metadata": {
        "id": "OIB_cQLc7Wd0"
      }
    },
    {
      "cell_type": "code",
      "source": [
        "my_set = {1, 2, 2, 3, 4, 4}\n",
        "print(my_set)"
      ],
      "metadata": {
        "colab": {
          "base_uri": "https://localhost:8080/"
        },
        "id": "9oHgHGtA79Kk",
        "outputId": "b44e6e0c-8f03-4fc2-8582-bdad08a03fc5"
      },
      "execution_count": 1,
      "outputs": [
        {
          "output_type": "stream",
          "name": "stdout",
          "text": [
            "{1, 2, 3, 4}\n"
          ]
        }
      ]
    },
    {
      "cell_type": "markdown",
      "source": [
        "#Q14. How does the \"in\" keyword work differently for lists and dictionaries?\n",
        "\n",
        "-----the (in) keyword is used to check for membership within various data structures, including lists and dictionaries. However, its behavior differs between these two types.\n",
        "\n",
        "(in) with Lists\n",
        "When used with a list, the in keyword checks whether a specific value exists within the list.\n"
      ],
      "metadata": {
        "id": "s9utvM5j8I66"
      }
    },
    {
      "cell_type": "code",
      "source": [
        "fruits = ['apple', 'banana', 'cherry']\n",
        "print('banana' in fruits)"
      ],
      "metadata": {
        "colab": {
          "base_uri": "https://localhost:8080/"
        },
        "id": "EgXcqGHz8bnp",
        "outputId": "bd8a0ddc-34a1-4e15-db06-33b47d49472d"
      },
      "execution_count": 3,
      "outputs": [
        {
          "output_type": "stream",
          "name": "stdout",
          "text": [
            "True\n"
          ]
        }
      ]
    },
    {
      "cell_type": "code",
      "source": [
        "print('grape' in fruits)"
      ],
      "metadata": {
        "colab": {
          "base_uri": "https://localhost:8080/"
        },
        "id": "nTBdsLxk8jlX",
        "outputId": "d60a6a86-5a94-4088-be9e-ff5c5b07c091"
      },
      "execution_count": 4,
      "outputs": [
        {
          "output_type": "stream",
          "name": "stdout",
          "text": [
            "False\n"
          ]
        }
      ]
    },
    {
      "cell_type": "markdown",
      "source": [
        "(in) with Dictionaries\n",
        "When used with a dictionary, the in keyword checks whether a specific key exists in the dictionary, not the value.​"
      ],
      "metadata": {
        "id": "_Ot7f7ZK8qxR"
      }
    },
    {
      "cell_type": "code",
      "source": [
        "person = {'name': 'sourav', 'age': 26}\n",
        "print('name' in person)"
      ],
      "metadata": {
        "colab": {
          "base_uri": "https://localhost:8080/"
        },
        "id": "abVO9ume8vjR",
        "outputId": "15a94c28-8c81-4e5e-965c-b51265be6231"
      },
      "execution_count": 7,
      "outputs": [
        {
          "output_type": "stream",
          "name": "stdout",
          "text": [
            "True\n"
          ]
        }
      ]
    },
    {
      "cell_type": "code",
      "source": [
        "print('sourav' in person)"
      ],
      "metadata": {
        "colab": {
          "base_uri": "https://localhost:8080/"
        },
        "id": "_KgdhHnh82jM",
        "outputId": "d97ae12d-bebb-4dda-e995-ed946bb37a9e"
      },
      "execution_count": 6,
      "outputs": [
        {
          "output_type": "stream",
          "name": "stdout",
          "text": [
            "False\n"
          ]
        }
      ]
    },
    {
      "cell_type": "markdown",
      "source": [
        "#Q15. Can you modify the elements of a tuple* Explain why or why not.\n",
        "\n",
        "----Tuples are immutable, meaning that once a tuple is created, its elements cannot be changed, added, or removed. Attempting to modify a tuple directly will result in a TypeError."
      ],
      "metadata": {
        "id": "fwcoz3dR8_6Z"
      }
    },
    {
      "cell_type": "code",
      "source": [
        "my_tuple = (1, 2, 3)\n",
        "my_tuple[0] = 10"
      ],
      "metadata": {
        "colab": {
          "base_uri": "https://localhost:8080/",
          "height": 164
        },
        "id": "eJB1aZqD9kDA",
        "outputId": "9fa6954c-7828-47ec-8179-bd96df4829e2"
      },
      "execution_count": 8,
      "outputs": [
        {
          "output_type": "error",
          "ename": "TypeError",
          "evalue": "'tuple' object does not support item assignment",
          "traceback": [
            "\u001b[0;31m---------------------------------------------------------------------------\u001b[0m",
            "\u001b[0;31mTypeError\u001b[0m                                 Traceback (most recent call last)",
            "\u001b[0;32m<ipython-input-8-d3f52cb06028>\u001b[0m in \u001b[0;36m<cell line: 0>\u001b[0;34m()\u001b[0m\n\u001b[1;32m      1\u001b[0m \u001b[0mmy_tuple\u001b[0m \u001b[0;34m=\u001b[0m \u001b[0;34m(\u001b[0m\u001b[0;36m1\u001b[0m\u001b[0;34m,\u001b[0m \u001b[0;36m2\u001b[0m\u001b[0;34m,\u001b[0m \u001b[0;36m3\u001b[0m\u001b[0;34m)\u001b[0m\u001b[0;34m\u001b[0m\u001b[0;34m\u001b[0m\u001b[0m\n\u001b[0;32m----> 2\u001b[0;31m \u001b[0mmy_tuple\u001b[0m\u001b[0;34m[\u001b[0m\u001b[0;36m0\u001b[0m\u001b[0;34m]\u001b[0m \u001b[0;34m=\u001b[0m \u001b[0;36m10\u001b[0m\u001b[0;34m\u001b[0m\u001b[0;34m\u001b[0m\u001b[0m\n\u001b[0m",
            "\u001b[0;31mTypeError\u001b[0m: 'tuple' object does not support item assignment"
          ]
        }
      ]
    },
    {
      "cell_type": "markdown",
      "source": [
        "#Q16. What is a nested dictionary, and give on example of its use case?\n",
        "\n",
        "-----​A nested dictionary in Python is a dictionary where each value is itself another dictionary. This structure allows for the representation of complex, hierarchical data in a clear and organized manner.\n"
      ],
      "metadata": {
        "id": "2NKghGQ99qXQ"
      }
    },
    {
      "cell_type": "markdown",
      "source": [
        "#Q17. Describe the time complexity of accessing elements in a dictionary.\n",
        "----Accessing elements in a dictionary by key typically has an average-case time complexity of O(1), meaning it takes constant time regardless of the dictionary's size. This efficiency is due to the underlying implementation of dictionaries using hash tables.\n",
        "\n",
        "Dictionary Access Works :\n",
        "\n",
        "When you access a value in a dictionary using its key (e.g., my_dict['key']), Python performs the following steps:​\n",
        "\n",
        "Hashing the Key: Python computes a hash value for the key using the built-in hash() function.​\n",
        "\n",
        "Index Calculation: The hash value is used to determine the index in the internal array where the value is stored.​\n",
        "\n",
        "Direct Access: Python directly accesses the memory location corresponding to the calculated index to retrieve the value."
      ],
      "metadata": {
        "id": "7iFlxPfz-wUP"
      }
    },
    {
      "cell_type": "markdown",
      "source": [
        "#Q19. Why are dictionaries considered unordered, and how does that affect data retrieval.\n",
        "\n",
        "---Dictionaries are designed to store data as key-value pairs, and their ordering behavior has evolved over different versions of the language.\n",
        "\n",
        "Effect data retrieval :    \n",
        "\n",
        "The ordering behavior of dictionaries affects data retrieval in the following ways:​\n",
        "\n",
        "Predictable Iteration: In Python 3.7 and later, the ability to maintain insertion order allows for predictable iteration over dictionary items. This is beneficial when the order of elements is significant, such as when serializing data or displaying information to users.​\n",
        "\n",
        "Backward Compatibility: Code written for versions prior to Python 3.7 should not rely on the order of items in a dictionary. If order is crucial, it's advisable to use collections.OrderedDict, which preserves insertion order across all Python versions.\n",
        "\n"
      ],
      "metadata": {
        "id": "4VSNyVuFAQwt"
      }
    },
    {
      "cell_type": "markdown",
      "source": [
        "#Q20. Explain the difference between a list and a dictionary in terms of data retrieval.\n",
        "\n",
        "---- lists and dictionaries are versatile data structures used to store collections of items. However, they differ significantly in how data is stored and retrieved.\n",
        "\n",
        "Differences a list and a dictionary in Data Retrieval :    \n",
        "\n",
        "List:    \n",
        "\n",
        "Access Method\t----- Index (e.g., list[0])\n",
        "Ordering  -----\tMaintains insertion order\n",
        "Duplicate Entries ----\tAllows duplicate values.\n",
        "Use Case -----\tSuitable for ordered collections.\n",
        "Access Time\t------ O(1) for index access; O(n) for search\n",
        "\n",
        "Dictionary :    \n",
        "\n",
        "key (e.g., dict['key'])  \n",
        "Maintains insertion order (Python 3.7+)\n",
        "\n",
        "Keys must be unique; values can duplicate\n",
        "\n",
        "Ideal for key-value mappings\n",
        "\n",
        "O(1) average for key access\n",
        "\n",
        "\n",
        "\n",
        "\n"
      ],
      "metadata": {
        "id": "6tDK5sEXBEiq"
      }
    },
    {
      "cell_type": "markdown",
      "source": [
        "## Practical Questions ▶ ###\n"
      ],
      "metadata": {
        "id": "TP4iL49HC5Av"
      }
    },
    {
      "cell_type": "code",
      "source": [],
      "metadata": {
        "id": "s-VcpShXDYgh"
      },
      "execution_count": null,
      "outputs": []
    },
    {
      "cell_type": "markdown",
      "source": [
        "#Q1. Write a code to create a string with your name and print it.\n"
      ],
      "metadata": {
        "id": "Ky9tbHbODUNm"
      }
    },
    {
      "cell_type": "code",
      "source": [
        "name = \"Sourav\"\n",
        "print(name)"
      ],
      "metadata": {
        "colab": {
          "base_uri": "https://localhost:8080/"
        },
        "id": "AceXSKGNDWmK",
        "outputId": "1517c904-982d-4aa3-fdef-210bc15ea349"
      },
      "execution_count": 16,
      "outputs": [
        {
          "output_type": "stream",
          "name": "stdout",
          "text": [
            "Sourav\n"
          ]
        }
      ]
    },
    {
      "cell_type": "markdown",
      "source": [
        "#Q2. Write a code to find the length of the string \"Hello World\"."
      ],
      "metadata": {
        "id": "U-JHbyXcD0N-"
      }
    },
    {
      "cell_type": "code",
      "source": [
        "a = len (\"Hello world\")\n",
        "lenth = print(a)"
      ],
      "metadata": {
        "colab": {
          "base_uri": "https://localhost:8080/"
        },
        "id": "GIfEpR-pEFAo",
        "outputId": "402b975b-56ad-4cc9-e882-0dc26b41a09d"
      },
      "execution_count": 18,
      "outputs": [
        {
          "output_type": "stream",
          "name": "stdout",
          "text": [
            "11\n"
          ]
        }
      ]
    },
    {
      "cell_type": "markdown",
      "source": [
        "#Q3. Write a code to slice the first 3 characters from the string \"Python Programming\"."
      ],
      "metadata": {
        "id": "P54VUE92Ed0t"
      }
    },
    {
      "cell_type": "code",
      "source": [
        "b = \"Python\"\n",
        "first_three = b [:3]\n",
        "print(first_three)"
      ],
      "metadata": {
        "colab": {
          "base_uri": "https://localhost:8080/"
        },
        "id": "1DmHjjNLEhl3",
        "outputId": "8ba8cd03-e935-421f-9845-cd373dbb939f"
      },
      "execution_count": 22,
      "outputs": [
        {
          "output_type": "stream",
          "name": "stdout",
          "text": [
            "Pyt\n"
          ]
        }
      ]
    },
    {
      "cell_type": "markdown",
      "source": [
        "#Q4. Write a code to convert the string \"hello\" to uppercase."
      ],
      "metadata": {
        "id": "Z_upeXxoFx6b"
      }
    },
    {
      "cell_type": "code",
      "source": [
        "a = \"hello\"\n",
        "uppercase_str = a.upper()\n",
        "print (uppercase_str)"
      ],
      "metadata": {
        "colab": {
          "base_uri": "https://localhost:8080/"
        },
        "id": "DbPj-ACiF_kq",
        "outputId": "6f5d1234-d0b1-49e4-ae39-785a505544e4"
      },
      "execution_count": 24,
      "outputs": [
        {
          "output_type": "stream",
          "name": "stdout",
          "text": [
            "HELLO\n"
          ]
        }
      ]
    },
    {
      "cell_type": "markdown",
      "source": [
        "#Q5. Write a code to replace the word \"apple\" with \"orange\" in the string \"I like apple\"."
      ],
      "metadata": {
        "id": "16xtrsPlGoMB"
      }
    },
    {
      "cell_type": "code",
      "source": [
        "str = \"I like apple\"\n",
        "new_str = str.replace(\"apple\", \"orange\")\n",
        "print (new_str)"
      ],
      "metadata": {
        "colab": {
          "base_uri": "https://localhost:8080/"
        },
        "id": "tJ6NXfqxHCs4",
        "outputId": "58b09d24-2095-4960-9041-9f3c10af2f0d"
      },
      "execution_count": 30,
      "outputs": [
        {
          "output_type": "stream",
          "name": "stdout",
          "text": [
            "I like orange\n"
          ]
        }
      ]
    },
    {
      "cell_type": "markdown",
      "source": [
        "#Q6. Write a code to create a list with numbers 1 to 5 and  print it."
      ],
      "metadata": {
        "id": "_keEeb4YHsF3"
      }
    },
    {
      "cell_type": "code",
      "source": [
        "my_list = list(range(1, 6))\n",
        "my_list"
      ],
      "metadata": {
        "colab": {
          "base_uri": "https://localhost:8080/"
        },
        "id": "pt7tapcUH7fP",
        "outputId": "9ceead96-6eda-4682-bba6-b01efb188f66"
      },
      "execution_count": 31,
      "outputs": [
        {
          "output_type": "execute_result",
          "data": {
            "text/plain": [
              "[1, 2, 3, 4, 5]"
            ]
          },
          "metadata": {},
          "execution_count": 31
        }
      ]
    },
    {
      "cell_type": "markdown",
      "source": [
        "#Q7. Write a code to append the number 10 to  the list  1, 2, 3, 4.\n"
      ],
      "metadata": {
        "id": "62x4yUddIInu"
      }
    },
    {
      "cell_type": "code",
      "source": [
        "list = [1, 2, 3, 4]\n",
        "list.append(10)\n",
        "list"
      ],
      "metadata": {
        "colab": {
          "base_uri": "https://localhost:8080/"
        },
        "id": "Xf9Bbu9NIJK-",
        "outputId": "28d6c3cc-23cb-4385-da06-b37a9e4a5a47"
      },
      "execution_count": 32,
      "outputs": [
        {
          "output_type": "execute_result",
          "data": {
            "text/plain": [
              "[1, 2, 3, 4, 10]"
            ]
          },
          "metadata": {},
          "execution_count": 32
        }
      ]
    },
    {
      "cell_type": "markdown",
      "source": [
        "#Q8. Write a code to remove the number 3 from the list  1, 2, 3, 4,5."
      ],
      "metadata": {
        "id": "KI31zA6XIV0u"
      }
    },
    {
      "cell_type": "code",
      "source": [
        "a = [1, 2, 3, 4, 5]\n",
        "a.remove(3)\n",
        "a"
      ],
      "metadata": {
        "colab": {
          "base_uri": "https://localhost:8080/"
        },
        "id": "ghLXr-_ZIhJm",
        "outputId": "eb6105af-5f16-4ef5-bb8c-a2f65e3c47b0"
      },
      "execution_count": 33,
      "outputs": [
        {
          "output_type": "execute_result",
          "data": {
            "text/plain": [
              "[1, 2, 4, 5]"
            ]
          },
          "metadata": {},
          "execution_count": 33
        }
      ]
    },
    {
      "cell_type": "markdown",
      "source": [
        "#Q9. Write a code to access the second element in the list ['a', 'b', 'c', 'd]"
      ],
      "metadata": {
        "id": "sNj5LzdbIng2"
      }
    },
    {
      "cell_type": "code",
      "source": [
        "my_list = ['a', 'b', 'c', 'd']\n",
        "second_element = my_list[1]\n",
        "second_element"
      ],
      "metadata": {
        "colab": {
          "base_uri": "https://localhost:8080/",
          "height": 36
        },
        "id": "4hDdFuFkIwoW",
        "outputId": "729ec817-8dfa-42a7-8e61-7bef023675ce"
      },
      "execution_count": 34,
      "outputs": [
        {
          "output_type": "execute_result",
          "data": {
            "text/plain": [
              "'b'"
            ],
            "application/vnd.google.colaboratory.intrinsic+json": {
              "type": "string"
            }
          },
          "metadata": {},
          "execution_count": 34
        }
      ]
    },
    {
      "cell_type": "markdown",
      "source": [
        "Q10. Write a code to reverse the list [10, 20, 30, 40, 50]."
      ],
      "metadata": {
        "id": "wLqaJlh0I_un"
      }
    },
    {
      "cell_type": "code",
      "source": [
        "list = [10, 20, 30, 40, 50]\n",
        "list.reverse()\n",
        "list"
      ],
      "metadata": {
        "colab": {
          "base_uri": "https://localhost:8080/"
        },
        "id": "VdyZu0l6JKWe",
        "outputId": "05e7cf75-4c47-4e8d-f05b-e35f6ca634b5"
      },
      "execution_count": 36,
      "outputs": [
        {
          "output_type": "execute_result",
          "data": {
            "text/plain": [
              "[50, 40, 30, 20, 10]"
            ]
          },
          "metadata": {},
          "execution_count": 36
        }
      ]
    },
    {
      "cell_type": "markdown",
      "source": [
        "#Q11. Write a code to create a tuple with the elements 100, 200, 300 and  print it."
      ],
      "metadata": {
        "id": "zRIlfrJIJphw"
      }
    },
    {
      "cell_type": "code",
      "source": [
        "my_tuple = (100, 200, 300)\n",
        "my_tuple"
      ],
      "metadata": {
        "colab": {
          "base_uri": "https://localhost:8080/"
        },
        "id": "aLYnkI26Jvxk",
        "outputId": "1f40e14e-d55a-459a-aa0e-747aeb209fa4"
      },
      "execution_count": 37,
      "outputs": [
        {
          "output_type": "execute_result",
          "data": {
            "text/plain": [
              "(100, 200, 300)"
            ]
          },
          "metadata": {},
          "execution_count": 37
        }
      ]
    },
    {
      "cell_type": "markdown",
      "source": [
        "#Q12. Write a code to access the second—to—lost element of the tuple ('red', 'green', 'blue', 'yellow’)."
      ],
      "metadata": {
        "id": "l4QLbJgsKG3s"
      }
    },
    {
      "cell_type": "code",
      "source": [
        "my_tuple = ('red', 'green', 'blue', 'yellow')\n",
        "sec_to_last_ele = my_tuple[-2]\n",
        "sec_to_last_ele"
      ],
      "metadata": {
        "colab": {
          "base_uri": "https://localhost:8080/",
          "height": 36
        },
        "id": "uCqybOjnKPrc",
        "outputId": "d28c0f33-288d-490d-f11e-7d23e8477af6"
      },
      "execution_count": 39,
      "outputs": [
        {
          "output_type": "execute_result",
          "data": {
            "text/plain": [
              "'blue'"
            ],
            "application/vnd.google.colaboratory.intrinsic+json": {
              "type": "string"
            }
          },
          "metadata": {},
          "execution_count": 39
        }
      ]
    },
    {
      "cell_type": "markdown",
      "source": [
        "#Q13. Write a code to find the minimum number in the tuple (10, 20, 5, 15)."
      ],
      "metadata": {
        "id": "MfFlr7rWKdI7"
      }
    },
    {
      "cell_type": "code",
      "source": [
        "my_tup = (10, 20, 5, 15)\n",
        "min_num = min(my_tup)\n",
        "min_num"
      ],
      "metadata": {
        "colab": {
          "base_uri": "https://localhost:8080/"
        },
        "id": "bCrgd6iUKkBD",
        "outputId": "b060f695-ea3b-4b03-b3ac-f1ae8d61fa67"
      },
      "execution_count": 41,
      "outputs": [
        {
          "output_type": "execute_result",
          "data": {
            "text/plain": [
              "5"
            ]
          },
          "metadata": {},
          "execution_count": 41
        }
      ]
    },
    {
      "cell_type": "markdown",
      "source": [
        "#Q14. Write a code to find the index of the element \"cat\" in the tuple ('dog', 'cat', 'rabbit')."
      ],
      "metadata": {
        "id": "mdVgULlbKytC"
      }
    },
    {
      "cell_type": "code",
      "source": [
        "my_tuple = ('dog', 'cat', 'rabbit')\n",
        "index_of_cat = my_tuple.index('cat')\n",
        "index_of_cat"
      ],
      "metadata": {
        "colab": {
          "base_uri": "https://localhost:8080/"
        },
        "id": "i5dZS4_cLAnF",
        "outputId": "0c5afe99-bbbd-4910-ecc3-d9c9a151056a"
      },
      "execution_count": 43,
      "outputs": [
        {
          "output_type": "execute_result",
          "data": {
            "text/plain": [
              "1"
            ]
          },
          "metadata": {},
          "execution_count": 43
        }
      ]
    },
    {
      "cell_type": "markdown",
      "source": [
        "#Q15. Write a code to create a tuple containing three different fruits and check if \"kiwi\" is in it."
      ],
      "metadata": {
        "id": "E4l99Cf4LrOx"
      }
    },
    {
      "cell_type": "code",
      "source": [
        "fruits = (\"apple\", \"banana\", \"orange\")\n",
        "if \"kiwi\" in fruits:\n",
        "  print(\"kiwi is in the tuple\")\n",
        "else:\n",
        "  print(\"kiwi is not in the tuple\")"
      ],
      "metadata": {
        "colab": {
          "base_uri": "https://localhost:8080/"
        },
        "id": "PxRZ9KX4L5Ep",
        "outputId": "8b3f0296-cdf4-4bcd-eedd-acd90876145e"
      },
      "execution_count": 44,
      "outputs": [
        {
          "output_type": "stream",
          "name": "stdout",
          "text": [
            "kiwi is not in the tuple\n"
          ]
        }
      ]
    },
    {
      "cell_type": "markdown",
      "source": [
        "#Q16. Write a code to create a set with the elements 'a', 'b', 'c' and  print it."
      ],
      "metadata": {
        "id": "epk1ZhEfMF3A"
      }
    },
    {
      "cell_type": "code",
      "source": [
        "my_set = {'a', 'b', 'c'}\n",
        "my_set"
      ],
      "metadata": {
        "colab": {
          "base_uri": "https://localhost:8080/"
        },
        "id": "_qVTxNJBMSuY",
        "outputId": "428d8c3f-6286-4eac-e559-065c0b1968f2"
      },
      "execution_count": 45,
      "outputs": [
        {
          "output_type": "execute_result",
          "data": {
            "text/plain": [
              "{'a', 'b', 'c'}"
            ]
          },
          "metadata": {},
          "execution_count": 45
        }
      ]
    },
    {
      "cell_type": "markdown",
      "source": [
        "#Q17. Write a code to clear all elements from the set (1, 2, 3, 4, 5)."
      ],
      "metadata": {
        "id": "BDRAtf1FMYEg"
      }
    },
    {
      "cell_type": "code",
      "source": [
        "my_set = {1, 2, 3, 4, 5}\n",
        "my_set.clear()\n",
        "my_set"
      ],
      "metadata": {
        "colab": {
          "base_uri": "https://localhost:8080/"
        },
        "id": "8yW38dcfMqk_",
        "outputId": "24c60ebb-fe95-461d-a280-02c5f8d7d7bb"
      },
      "execution_count": 46,
      "outputs": [
        {
          "output_type": "execute_result",
          "data": {
            "text/plain": [
              "set()"
            ]
          },
          "metadata": {},
          "execution_count": 46
        }
      ]
    },
    {
      "cell_type": "markdown",
      "source": [
        "#Q18. Write a code to remove the element 4 from the set (1, 2, 3, 4)."
      ],
      "metadata": {
        "id": "MJcHW3JzNMUO"
      }
    },
    {
      "cell_type": "code",
      "source": [
        "my_set = {1, 2, 3, 4}\n",
        "my_set.remove(4)\n",
        "my_set"
      ],
      "metadata": {
        "colab": {
          "base_uri": "https://localhost:8080/"
        },
        "id": "POuYV7cnNYz-",
        "outputId": "ccc30af1-0a6d-4cd5-beab-ed1419f03ae2"
      },
      "execution_count": 47,
      "outputs": [
        {
          "output_type": "execute_result",
          "data": {
            "text/plain": [
              "{1, 2, 3}"
            ]
          },
          "metadata": {},
          "execution_count": 47
        }
      ]
    },
    {
      "cell_type": "markdown",
      "source": [
        "#Q19. Write a code to find the union of two sets (1, 2, 3) and  (3, 4, 5)."
      ],
      "metadata": {
        "id": "GXYLw5IINa8-"
      }
    },
    {
      "cell_type": "code",
      "source": [
        "set1 = {1, 2, 3}\n",
        "set2 = {3, 4, 5}\n",
        "union_set = set1.union(set2)\n",
        "union_set"
      ],
      "metadata": {
        "colab": {
          "base_uri": "https://localhost:8080/"
        },
        "id": "xrzc0tJUNjWO",
        "outputId": "027ebe1a-1f07-4cf6-cfd8-0038d7501e02"
      },
      "execution_count": 50,
      "outputs": [
        {
          "output_type": "execute_result",
          "data": {
            "text/plain": [
              "{1, 2, 3, 4, 5}"
            ]
          },
          "metadata": {},
          "execution_count": 50
        }
      ]
    },
    {
      "cell_type": "markdown",
      "source": [
        "#Q20. Write a code to find the intersection of two sets (1, 2, 3) and  (2, 3, 4)."
      ],
      "metadata": {
        "id": "mnrMSuQnNzHd"
      }
    },
    {
      "cell_type": "code",
      "source": [
        "set1 = {1, 2, 3}\n",
        "set2 = {2, 3, 4}\n",
        "int_set = set1.intersection(set2)\n",
        "int_set"
      ],
      "metadata": {
        "colab": {
          "base_uri": "https://localhost:8080/"
        },
        "id": "JFGbXbfYONpn",
        "outputId": "50d45b5d-b97f-4d88-a6c2-a55f90c374c0"
      },
      "execution_count": 53,
      "outputs": [
        {
          "output_type": "execute_result",
          "data": {
            "text/plain": [
              "{2, 3}"
            ]
          },
          "metadata": {},
          "execution_count": 53
        }
      ]
    },
    {
      "cell_type": "markdown",
      "source": [
        "Q21. Write a code to create a dictionary with the keys \"nome\", \"age\", and  \"city\", and  print it."
      ],
      "metadata": {
        "id": "UGHmSegHOzys"
      }
    },
    {
      "cell_type": "code",
      "source": [
        "my_dict = {\"sourav\": \"\", \"age\": 26, \"city\": \"dhanbad\"}\n",
        "my_dict"
      ],
      "metadata": {
        "colab": {
          "base_uri": "https://localhost:8080/"
        },
        "id": "YmgQ6-ARPIIU",
        "outputId": "a9cc8567-b63c-4a81-c0bf-ff77f63c48b1"
      },
      "execution_count": 54,
      "outputs": [
        {
          "output_type": "execute_result",
          "data": {
            "text/plain": [
              "{'sourav': '', 'age': 26, 'city': 'dhanbad'}"
            ]
          },
          "metadata": {},
          "execution_count": 54
        }
      ]
    },
    {
      "cell_type": "markdown",
      "source": [
        "#Q22. Write a code to add a new key-value pair \"country\": \"USA\" to  the dictionary ('name': 'John', 'age': 25)."
      ],
      "metadata": {
        "id": "ZdnznpqmPgF7"
      }
    },
    {
      "cell_type": "code",
      "source": [
        "my_dict = {'name': 'Sourav', 'age': 26}\n",
        "my_dict['country'] = 'india'\n",
        "my_dict"
      ],
      "metadata": {
        "colab": {
          "base_uri": "https://localhost:8080/"
        },
        "id": "tFkOE-e0Prdj",
        "outputId": "16703484-d88b-4326-9d66-eaf41e58bcb9"
      },
      "execution_count": 56,
      "outputs": [
        {
          "output_type": "execute_result",
          "data": {
            "text/plain": [
              "{'name': 'Sourav', 'age': 26, 'country': 'india'}"
            ]
          },
          "metadata": {},
          "execution_count": 56
        }
      ]
    },
    {
      "cell_type": "markdown",
      "source": [
        "#Q23. Write a code to access the value associated with the key \"name\" in the dictionary ('name’: 'Alice', 'age': 30)."
      ],
      "metadata": {
        "id": "uxYo6rDsP3eC"
      }
    },
    {
      "cell_type": "code",
      "source": [
        "my_dict = {'name': 'Sourav', 'age': 30}\n",
        "name_value = my_dict['name']\n",
        "name_value"
      ],
      "metadata": {
        "colab": {
          "base_uri": "https://localhost:8080/",
          "height": 36
        },
        "id": "YjqsYdPyQDoS",
        "outputId": "3a56513b-8a72-42b5-f108-c708a37d50c3"
      },
      "execution_count": 57,
      "outputs": [
        {
          "output_type": "execute_result",
          "data": {
            "text/plain": [
              "'Sourav'"
            ],
            "application/vnd.google.colaboratory.intrinsic+json": {
              "type": "string"
            }
          },
          "metadata": {},
          "execution_count": 57
        }
      ]
    },
    {
      "cell_type": "markdown",
      "source": [
        "#Q24. Write a code to remove the key \"age\" from the dictionary (’name’: 'Bob', 'age': 22, 'city': ’New York’).\n"
      ],
      "metadata": {
        "id": "jgbgD59JQNzh"
      }
    },
    {
      "cell_type": "code",
      "source": [
        "my_dict = {'name': 'Sourav', 'age': 26, 'city': 'dhanbad'}\n",
        "del my_dict['age']\n",
        "my_dict"
      ],
      "metadata": {
        "colab": {
          "base_uri": "https://localhost:8080/"
        },
        "id": "RPPh_bAtQe3Z",
        "outputId": "642d9a18-5e34-49f7-d2fb-e8c2821864c1"
      },
      "execution_count": 58,
      "outputs": [
        {
          "output_type": "execute_result",
          "data": {
            "text/plain": [
              "{'name': 'Sourav', 'city': 'dhanbad'}"
            ]
          },
          "metadata": {},
          "execution_count": 58
        }
      ]
    },
    {
      "cell_type": "markdown",
      "source": [
        "#Q25. Write a code to check if the key \"city\" exists in the dictionary ('name': 'Alice', 'city': 'Paris'}."
      ],
      "metadata": {
        "id": "_kpSfF74QtgJ"
      }
    },
    {
      "cell_type": "code",
      "source": [
        "my_dict = {'name': 'Alice', 'city': 'Paris'}\n",
        "if 'city' in my_dict:\n",
        "    print(\"The key 'city' exists in the dictionary.\")\n",
        "else:\n",
        "    print(\"The key 'city' does not exist in the dictionary.\")"
      ],
      "metadata": {
        "colab": {
          "base_uri": "https://localhost:8080/"
        },
        "id": "Lh4mhIGJQ2Nh",
        "outputId": "c41754b8-ef80-47f1-f3d4-35b476c9c9cf"
      },
      "execution_count": 59,
      "outputs": [
        {
          "output_type": "stream",
          "name": "stdout",
          "text": [
            "The key 'city' exists in the dictionary.\n"
          ]
        }
      ]
    },
    {
      "cell_type": "markdown",
      "source": [
        "#26. Write a code to create a list, a tuple, and a dictionary, and print them all."
      ],
      "metadata": {
        "id": "11Zx8ZGZRBh4"
      }
    },
    {
      "cell_type": "code",
      "source": [
        "my_list = [1, 2, 3, 4, 5]\n",
        "my_tuple = (6, 7, 8, 9, 10)\n",
        "my_dict = {\"name\": \"Sourav\", \"age\": 26, \"city\": \"dhanbad\"}\n",
        "print(\"List:\", my_list)\n",
        "print(\"Tuple:\", my_tuple)\n",
        "print(\"Dictionary:\", my_dict)\n"
      ],
      "metadata": {
        "colab": {
          "base_uri": "https://localhost:8080/"
        },
        "id": "QCU_88haRR1g",
        "outputId": "9cf39005-944d-414a-c55d-c74d72e62f88"
      },
      "execution_count": 62,
      "outputs": [
        {
          "output_type": "stream",
          "name": "stdout",
          "text": [
            "List: [1, 2, 3, 4, 5]\n",
            "Tuple: (6, 7, 8, 9, 10)\n",
            "Dictionary: {'name': 'Sourav', 'age': 26, 'city': 'dhanbad'}\n"
          ]
        }
      ]
    },
    {
      "cell_type": "markdown",
      "source": [
        "#Q28. Write a code to create a list with strings and print the element at the third index."
      ],
      "metadata": {
        "id": "PrtYKEgbSkkG"
      }
    },
    {
      "cell_type": "code",
      "source": [
        "my_list = [\"apple\", \"banana\", \"cherry\", \"date\", \"elderberry\"]\n",
        "my_list[3]"
      ],
      "metadata": {
        "colab": {
          "base_uri": "https://localhost:8080/",
          "height": 36
        },
        "id": "H68RcldXSuo-",
        "outputId": "2695498b-047a-47b0-bab4-d742c1c1ff8b"
      },
      "execution_count": 65,
      "outputs": [
        {
          "output_type": "execute_result",
          "data": {
            "text/plain": [
              "'date'"
            ],
            "application/vnd.google.colaboratory.intrinsic+json": {
              "type": "string"
            }
          },
          "metadata": {},
          "execution_count": 65
        }
      ]
    },
    {
      "cell_type": "markdown",
      "source": [
        "#Q29. Write a code to combine two dictionaries into one and print the result."
      ],
      "metadata": {
        "id": "uh0fH8vqS7t9"
      }
    },
    {
      "cell_type": "code",
      "source": [
        "dict1 = {'a': 1, 'b': 2}\n",
        "dict2 = {'c': 3, 'd': 4}\n",
        "\n",
        "combined_dict = dict1.copy()\n",
        "combined_dict.update(dict2)\n",
        "\n",
        "combined_dict"
      ],
      "metadata": {
        "colab": {
          "base_uri": "https://localhost:8080/"
        },
        "id": "jVKlpkZYTpiO",
        "outputId": "6a822fef-a750-4b6b-e7f2-74c227b1c14a"
      },
      "execution_count": 66,
      "outputs": [
        {
          "output_type": "execute_result",
          "data": {
            "text/plain": [
              "{'a': 1, 'b': 2, 'c': 3, 'd': 4}"
            ]
          },
          "metadata": {},
          "execution_count": 66
        }
      ]
    },
    {
      "cell_type": "markdown",
      "source": [
        "#Q30. Write a code to convert a list of strings into a set."
      ],
      "metadata": {
        "id": "g1WLD21ATszM"
      }
    },
    {
      "cell_type": "code",
      "source": [
        "string_list = [\"apple\", \"banana\", \"cherry\", \"apple\", \"banana\"]\n",
        "string_set = set(string_list)\n",
        "string_set"
      ],
      "metadata": {
        "colab": {
          "base_uri": "https://localhost:8080/"
        },
        "id": "Pj7BQXyjT2IU",
        "outputId": "ca3e5fbc-8bbe-40e7-f2b6-f18de6001299"
      },
      "execution_count": 67,
      "outputs": [
        {
          "output_type": "execute_result",
          "data": {
            "text/plain": [
              "{'apple', 'banana', 'cherry'}"
            ]
          },
          "metadata": {},
          "execution_count": 67
        }
      ]
    },
    {
      "cell_type": "code",
      "source": [],
      "metadata": {
        "id": "wVjz2bV0T4Qe"
      },
      "execution_count": null,
      "outputs": []
    }
  ]
}